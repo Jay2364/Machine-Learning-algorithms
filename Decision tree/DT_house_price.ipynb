{
 "cells": [
  {
   "cell_type": "code",
   "execution_count": 15,
   "id": "e2761e14",
   "metadata": {},
   "outputs": [],
   "source": [
    "import pandas as pd\n",
    "import matplotlib.pyplot as plt"
   ]
  },
  {
   "cell_type": "code",
   "execution_count": 41,
   "id": "7510fe45",
   "metadata": {},
   "outputs": [],
   "source": [
    "X_train = pd.read_csv('train.csv')"
   ]
  },
  {
   "cell_type": "code",
   "execution_count": 17,
   "id": "a9e84350",
   "metadata": {},
   "outputs": [
    {
     "data": {
      "text/html": [
       "<div>\n",
       "<style scoped>\n",
       "    .dataframe tbody tr th:only-of-type {\n",
       "        vertical-align: middle;\n",
       "    }\n",
       "\n",
       "    .dataframe tbody tr th {\n",
       "        vertical-align: top;\n",
       "    }\n",
       "\n",
       "    .dataframe thead th {\n",
       "        text-align: right;\n",
       "    }\n",
       "</style>\n",
       "<table border=\"1\" class=\"dataframe\">\n",
       "  <thead>\n",
       "    <tr style=\"text-align: right;\">\n",
       "      <th></th>\n",
       "      <th>beds</th>\n",
       "      <th>baths</th>\n",
       "      <th>size</th>\n",
       "      <th>size_units</th>\n",
       "      <th>lot_size</th>\n",
       "      <th>lot_size_units</th>\n",
       "      <th>zip_code</th>\n",
       "      <th>price</th>\n",
       "    </tr>\n",
       "  </thead>\n",
       "  <tbody>\n",
       "    <tr>\n",
       "      <th>0</th>\n",
       "      <td>3</td>\n",
       "      <td>2.5</td>\n",
       "      <td>2590.0</td>\n",
       "      <td>sqft</td>\n",
       "      <td>6000.00</td>\n",
       "      <td>sqft</td>\n",
       "      <td>98144</td>\n",
       "      <td>795000.0</td>\n",
       "    </tr>\n",
       "    <tr>\n",
       "      <th>1</th>\n",
       "      <td>4</td>\n",
       "      <td>2.0</td>\n",
       "      <td>2240.0</td>\n",
       "      <td>sqft</td>\n",
       "      <td>0.31</td>\n",
       "      <td>acre</td>\n",
       "      <td>98106</td>\n",
       "      <td>915000.0</td>\n",
       "    </tr>\n",
       "    <tr>\n",
       "      <th>2</th>\n",
       "      <td>4</td>\n",
       "      <td>3.0</td>\n",
       "      <td>2040.0</td>\n",
       "      <td>sqft</td>\n",
       "      <td>3783.00</td>\n",
       "      <td>sqft</td>\n",
       "      <td>98107</td>\n",
       "      <td>950000.0</td>\n",
       "    </tr>\n",
       "    <tr>\n",
       "      <th>3</th>\n",
       "      <td>4</td>\n",
       "      <td>3.0</td>\n",
       "      <td>3800.0</td>\n",
       "      <td>sqft</td>\n",
       "      <td>5175.00</td>\n",
       "      <td>sqft</td>\n",
       "      <td>98199</td>\n",
       "      <td>1950000.0</td>\n",
       "    </tr>\n",
       "    <tr>\n",
       "      <th>4</th>\n",
       "      <td>2</td>\n",
       "      <td>2.0</td>\n",
       "      <td>1042.0</td>\n",
       "      <td>sqft</td>\n",
       "      <td>NaN</td>\n",
       "      <td>NaN</td>\n",
       "      <td>98102</td>\n",
       "      <td>950000.0</td>\n",
       "    </tr>\n",
       "    <tr>\n",
       "      <th>...</th>\n",
       "      <td>...</td>\n",
       "      <td>...</td>\n",
       "      <td>...</td>\n",
       "      <td>...</td>\n",
       "      <td>...</td>\n",
       "      <td>...</td>\n",
       "      <td>...</td>\n",
       "      <td>...</td>\n",
       "    </tr>\n",
       "    <tr>\n",
       "      <th>2011</th>\n",
       "      <td>3</td>\n",
       "      <td>2.0</td>\n",
       "      <td>1370.0</td>\n",
       "      <td>sqft</td>\n",
       "      <td>0.50</td>\n",
       "      <td>acre</td>\n",
       "      <td>98112</td>\n",
       "      <td>910000.0</td>\n",
       "    </tr>\n",
       "    <tr>\n",
       "      <th>2012</th>\n",
       "      <td>1</td>\n",
       "      <td>1.0</td>\n",
       "      <td>889.0</td>\n",
       "      <td>sqft</td>\n",
       "      <td>NaN</td>\n",
       "      <td>NaN</td>\n",
       "      <td>98121</td>\n",
       "      <td>550000.0</td>\n",
       "    </tr>\n",
       "    <tr>\n",
       "      <th>2013</th>\n",
       "      <td>4</td>\n",
       "      <td>2.0</td>\n",
       "      <td>2140.0</td>\n",
       "      <td>sqft</td>\n",
       "      <td>6250.00</td>\n",
       "      <td>sqft</td>\n",
       "      <td>98199</td>\n",
       "      <td>1150000.0</td>\n",
       "    </tr>\n",
       "    <tr>\n",
       "      <th>2014</th>\n",
       "      <td>2</td>\n",
       "      <td>2.0</td>\n",
       "      <td>795.0</td>\n",
       "      <td>sqft</td>\n",
       "      <td>NaN</td>\n",
       "      <td>NaN</td>\n",
       "      <td>98103</td>\n",
       "      <td>590000.0</td>\n",
       "    </tr>\n",
       "    <tr>\n",
       "      <th>2015</th>\n",
       "      <td>3</td>\n",
       "      <td>2.0</td>\n",
       "      <td>1710.0</td>\n",
       "      <td>sqft</td>\n",
       "      <td>4267.00</td>\n",
       "      <td>sqft</td>\n",
       "      <td>98133</td>\n",
       "      <td>659000.0</td>\n",
       "    </tr>\n",
       "  </tbody>\n",
       "</table>\n",
       "<p>2016 rows × 8 columns</p>\n",
       "</div>"
      ],
      "text/plain": [
       "      beds  baths    size size_units  lot_size lot_size_units  zip_code  \\\n",
       "0        3    2.5  2590.0       sqft   6000.00           sqft     98144   \n",
       "1        4    2.0  2240.0       sqft      0.31           acre     98106   \n",
       "2        4    3.0  2040.0       sqft   3783.00           sqft     98107   \n",
       "3        4    3.0  3800.0       sqft   5175.00           sqft     98199   \n",
       "4        2    2.0  1042.0       sqft       NaN            NaN     98102   \n",
       "...    ...    ...     ...        ...       ...            ...       ...   \n",
       "2011     3    2.0  1370.0       sqft      0.50           acre     98112   \n",
       "2012     1    1.0   889.0       sqft       NaN            NaN     98121   \n",
       "2013     4    2.0  2140.0       sqft   6250.00           sqft     98199   \n",
       "2014     2    2.0   795.0       sqft       NaN            NaN     98103   \n",
       "2015     3    2.0  1710.0       sqft   4267.00           sqft     98133   \n",
       "\n",
       "          price  \n",
       "0      795000.0  \n",
       "1      915000.0  \n",
       "2      950000.0  \n",
       "3     1950000.0  \n",
       "4      950000.0  \n",
       "...         ...  \n",
       "2011   910000.0  \n",
       "2012   550000.0  \n",
       "2013  1150000.0  \n",
       "2014   590000.0  \n",
       "2015   659000.0  \n",
       "\n",
       "[2016 rows x 8 columns]"
      ]
     },
     "execution_count": 17,
     "metadata": {},
     "output_type": "execute_result"
    }
   ],
   "source": [
    "X_train"
   ]
  },
  {
   "cell_type": "code",
   "execution_count": 18,
   "id": "536d233c",
   "metadata": {},
   "outputs": [],
   "source": [
    "X_train.drop('size_units', axis=1, inplace=True)"
   ]
  },
  {
   "cell_type": "code",
   "execution_count": 19,
   "id": "b80f11c9",
   "metadata": {},
   "outputs": [],
   "source": [
    "X_train.drop('lot_size_units',axis=1, inplace=True)"
   ]
  },
  {
   "cell_type": "code",
   "execution_count": 20,
   "id": "6c49febf",
   "metadata": {},
   "outputs": [],
   "source": [
    "X_test = pd.read_csv('test.csv')\n",
    "X_test.drop('size_units', axis=1, inplace=True)\n",
    "X_test.drop('lot_size_units',axis=1, inplace=True)"
   ]
  },
  {
   "cell_type": "code",
   "execution_count": 21,
   "id": "fc146542",
   "metadata": {},
   "outputs": [
    {
     "data": {
      "text/plain": [
       "0      1175000.0\n",
       "1      1057500.0\n",
       "2       799000.0\n",
       "3       565000.0\n",
       "4      1187000.0\n",
       "         ...    \n",
       "500    3800000.0\n",
       "501     575000.0\n",
       "502    3105000.0\n",
       "503    1807000.0\n",
       "504     895000.0\n",
       "Name: price, Length: 505, dtype: float64"
      ]
     },
     "execution_count": 21,
     "metadata": {},
     "output_type": "execute_result"
    }
   ],
   "source": [
    "y_train = X_train['price']\n",
    "y_train\n",
    "\n",
    "y_test = X_test['price']\n",
    "y_test"
   ]
  },
  {
   "cell_type": "code",
   "execution_count": 22,
   "id": "61d95faf",
   "metadata": {},
   "outputs": [],
   "source": [
    "X_train.drop('price',axis=1, inplace=True)\n",
    "X_test.drop('price',axis=1, inplace=True)"
   ]
  },
  {
   "cell_type": "code",
   "execution_count": 23,
   "id": "9b6bd07f",
   "metadata": {},
   "outputs": [],
   "source": [
    "replace = X_train['lot_size'].mode()[0]\n",
    "X_train['lot_size'] = X_train['lot_size'].fillna(replace)"
   ]
  },
  {
   "cell_type": "code",
   "execution_count": 24,
   "id": "075c8388",
   "metadata": {},
   "outputs": [],
   "source": [
    "replace = X_test['lot_size'].mode()[0]\n",
    "X_test['lot_size'] = X_train['lot_size'].fillna(replace)"
   ]
  },
  {
   "cell_type": "markdown",
   "id": "4c68cf2a",
   "metadata": {},
   "source": [
    "## Post-pruning"
   ]
  },
  {
   "cell_type": "code",
   "execution_count": 34,
   "id": "65ead12b",
   "metadata": {},
   "outputs": [],
   "source": [
    "from sklearn.tree import DecisionTreeClassifier"
   ]
  },
  {
   "cell_type": "code",
   "execution_count": 35,
   "id": "6e5221d6",
   "metadata": {},
   "outputs": [],
   "source": [
    "treemodel = DecisionTreeClassifier(max_depth=2)"
   ]
  },
  {
   "cell_type": "code",
   "execution_count": 36,
   "id": "0470181e",
   "metadata": {},
   "outputs": [
    {
     "data": {
      "text/html": [
       "<style>#sk-container-id-3 {color: black;}#sk-container-id-3 pre{padding: 0;}#sk-container-id-3 div.sk-toggleable {background-color: white;}#sk-container-id-3 label.sk-toggleable__label {cursor: pointer;display: block;width: 100%;margin-bottom: 0;padding: 0.3em;box-sizing: border-box;text-align: center;}#sk-container-id-3 label.sk-toggleable__label-arrow:before {content: \"▸\";float: left;margin-right: 0.25em;color: #696969;}#sk-container-id-3 label.sk-toggleable__label-arrow:hover:before {color: black;}#sk-container-id-3 div.sk-estimator:hover label.sk-toggleable__label-arrow:before {color: black;}#sk-container-id-3 div.sk-toggleable__content {max-height: 0;max-width: 0;overflow: hidden;text-align: left;background-color: #f0f8ff;}#sk-container-id-3 div.sk-toggleable__content pre {margin: 0.2em;color: black;border-radius: 0.25em;background-color: #f0f8ff;}#sk-container-id-3 input.sk-toggleable__control:checked~div.sk-toggleable__content {max-height: 200px;max-width: 100%;overflow: auto;}#sk-container-id-3 input.sk-toggleable__control:checked~label.sk-toggleable__label-arrow:before {content: \"▾\";}#sk-container-id-3 div.sk-estimator input.sk-toggleable__control:checked~label.sk-toggleable__label {background-color: #d4ebff;}#sk-container-id-3 div.sk-label input.sk-toggleable__control:checked~label.sk-toggleable__label {background-color: #d4ebff;}#sk-container-id-3 input.sk-hidden--visually {border: 0;clip: rect(1px 1px 1px 1px);clip: rect(1px, 1px, 1px, 1px);height: 1px;margin: -1px;overflow: hidden;padding: 0;position: absolute;width: 1px;}#sk-container-id-3 div.sk-estimator {font-family: monospace;background-color: #f0f8ff;border: 1px dotted black;border-radius: 0.25em;box-sizing: border-box;margin-bottom: 0.5em;}#sk-container-id-3 div.sk-estimator:hover {background-color: #d4ebff;}#sk-container-id-3 div.sk-parallel-item::after {content: \"\";width: 100%;border-bottom: 1px solid gray;flex-grow: 1;}#sk-container-id-3 div.sk-label:hover label.sk-toggleable__label {background-color: #d4ebff;}#sk-container-id-3 div.sk-serial::before {content: \"\";position: absolute;border-left: 1px solid gray;box-sizing: border-box;top: 0;bottom: 0;left: 50%;z-index: 0;}#sk-container-id-3 div.sk-serial {display: flex;flex-direction: column;align-items: center;background-color: white;padding-right: 0.2em;padding-left: 0.2em;position: relative;}#sk-container-id-3 div.sk-item {position: relative;z-index: 1;}#sk-container-id-3 div.sk-parallel {display: flex;align-items: stretch;justify-content: center;background-color: white;position: relative;}#sk-container-id-3 div.sk-item::before, #sk-container-id-3 div.sk-parallel-item::before {content: \"\";position: absolute;border-left: 1px solid gray;box-sizing: border-box;top: 0;bottom: 0;left: 50%;z-index: -1;}#sk-container-id-3 div.sk-parallel-item {display: flex;flex-direction: column;z-index: 1;position: relative;background-color: white;}#sk-container-id-3 div.sk-parallel-item:first-child::after {align-self: flex-end;width: 50%;}#sk-container-id-3 div.sk-parallel-item:last-child::after {align-self: flex-start;width: 50%;}#sk-container-id-3 div.sk-parallel-item:only-child::after {width: 0;}#sk-container-id-3 div.sk-dashed-wrapped {border: 1px dashed gray;margin: 0 0.4em 0.5em 0.4em;box-sizing: border-box;padding-bottom: 0.4em;background-color: white;}#sk-container-id-3 div.sk-label label {font-family: monospace;font-weight: bold;display: inline-block;line-height: 1.2em;}#sk-container-id-3 div.sk-label-container {text-align: center;}#sk-container-id-3 div.sk-container {/* jupyter's `normalize.less` sets `[hidden] { display: none; }` but bootstrap.min.css set `[hidden] { display: none !important; }` so we also need the `!important` here to be able to override the default hidden behavior on the sphinx rendered scikit-learn.org. See: https://github.com/scikit-learn/scikit-learn/issues/21755 */display: inline-block !important;position: relative;}#sk-container-id-3 div.sk-text-repr-fallback {display: none;}</style><div id=\"sk-container-id-3\" class=\"sk-top-container\"><div class=\"sk-text-repr-fallback\"><pre>DecisionTreeClassifier(max_depth=2)</pre><b>In a Jupyter environment, please rerun this cell to show the HTML representation or trust the notebook. <br />On GitHub, the HTML representation is unable to render, please try loading this page with nbviewer.org.</b></div><div class=\"sk-container\" hidden><div class=\"sk-item\"><div class=\"sk-estimator sk-toggleable\"><input class=\"sk-toggleable__control sk-hidden--visually\" id=\"sk-estimator-id-3\" type=\"checkbox\" checked><label for=\"sk-estimator-id-3\" class=\"sk-toggleable__label sk-toggleable__label-arrow\">DecisionTreeClassifier</label><div class=\"sk-toggleable__content\"><pre>DecisionTreeClassifier(max_depth=2)</pre></div></div></div></div></div>"
      ],
      "text/plain": [
       "DecisionTreeClassifier(max_depth=2)"
      ]
     },
     "execution_count": 36,
     "metadata": {},
     "output_type": "execute_result"
    }
   ],
   "source": [
    "treemodel.fit(X_train, y_train)"
   ]
  },
  {
   "cell_type": "code",
   "execution_count": 37,
   "id": "aeb2b7d4",
   "metadata": {},
   "outputs": [],
   "source": [
    "y_pred = treemodel.predict(X_test)"
   ]
  },
  {
   "cell_type": "code",
   "execution_count": 38,
   "id": "43af29fe",
   "metadata": {},
   "outputs": [
    {
     "data": {
      "text/plain": [
       "array([ 750000.,  750000.,  750000.,  750000.,  750000.,  500000.,\n",
       "        500000.,  750000.,  750000.,  500000.,  750000.,  500000.,\n",
       "        750000.,  750000.,  500000.,  750000.,  750000.,  750000.,\n",
       "        750000.,  750000.,  750000.,  750000.,  750000.,  500000.,\n",
       "        500000.,  750000.,  750000.,  750000.,  750000.,  500000.,\n",
       "        500000.,  500000.,  750000.,  500000.,  750000.,  750000.,\n",
       "        500000.,  750000.,  750000.,  750000.,  750000.,  750000.,\n",
       "        750000.,  750000.,  750000.,  750000.,  750000.,  750000.,\n",
       "        750000.,  750000.,  750000.,  750000.,  500000.,  750000.,\n",
       "        500000.,  500000.,  750000.,  750000.,  750000.,  750000.,\n",
       "        750000.,  750000.,  750000.,  750000.,  750000.,  750000.,\n",
       "        750000.,  750000.,  500000.,  750000.,  750000.,  750000.,\n",
       "        750000.,  750000.,  750000.,  500000.,  750000.,  750000.,\n",
       "        750000.,  750000.,  750000.,  750000.,  500000.,  750000.,\n",
       "        750000.,  750000.,  750000.,  750000.,  750000.,  750000.,\n",
       "        750000.,  750000.,  750000.,  750000.,  500000.,  750000.,\n",
       "        750000.,  750000.,  750000.,  750000.,  750000.,  500000.,\n",
       "        750000.,  750000.,  750000.,  500000.,  750000.,  750000.,\n",
       "        750000.,  500000.,  500000.,  500000.,  500000.,  750000.,\n",
       "        750000.,  750000.,  750000.,  750000.,  500000.,  500000.,\n",
       "        750000.,  750000.,  750000.,  750000.,  750000.,  750000.,\n",
       "        750000.,  500000.,  750000.,  750000.,  750000.,  500000.,\n",
       "        750000.,  750000.,  750000.,  750000.,  750000.,  750000.,\n",
       "        750000.,  500000.,  750000.,  750000.,  750000.,  750000.,\n",
       "        500000.,  750000.,  750000.,  750000.,  500000.,  750000.,\n",
       "        750000.,  500000.,  750000.,  750000.,  500000.,  500000.,\n",
       "        750000.,  750000.,  500000.,  500000.,  500000.,  750000.,\n",
       "        750000.,  750000.,  750000.,  500000.,  750000.,  750000.,\n",
       "        750000.,  750000.,  750000.,  750000.,  750000.,  500000.,\n",
       "        750000.,  500000.,  750000.,  750000.,  750000.,  750000.,\n",
       "        750000.,  750000.,  750000.,  750000.,  750000.,  500000.,\n",
       "        750000.,  750000.,  500000.,  750000.,  500000.,  750000.,\n",
       "        750000.,  500000.,  750000.,  750000.,  750000., 1000000.,\n",
       "        500000.,  500000.,  750000.,  750000.,  750000.,  750000.,\n",
       "        500000.,  750000.,  750000.,  750000.,  750000.,  750000.,\n",
       "        750000.,  750000.,  750000.,  750000.,  500000.,  750000.,\n",
       "        500000.,  750000.,  750000.,  750000.,  750000.,  500000.,\n",
       "        750000.,  750000.,  750000.,  750000.,  750000.,  750000.,\n",
       "        750000.,  750000.,  500000.,  750000.,  750000.,  750000.,\n",
       "        750000.,  750000.,  500000.,  750000.,  750000.,  750000.,\n",
       "        750000.,  750000.,  750000.,  750000.,  750000.,  750000.,\n",
       "        750000.,  750000.,  750000.,  750000.,  500000.,  750000.,\n",
       "        750000.,  750000.,  750000.,  750000.,  750000.,  750000.,\n",
       "        500000.,  750000.,  750000.,  750000.,  750000.,  750000.,\n",
       "       1000000.,  750000.,  750000.,  500000.,  750000.,  750000.,\n",
       "        750000.,  750000.,  750000.,  750000.,  750000.,  750000.,\n",
       "        750000.,  750000.,  500000.,  750000.,  750000.,  500000.,\n",
       "        750000.,  750000.,  750000.,  750000.,  750000.,  750000.,\n",
       "        750000.,  500000.,  750000.,  750000.,  750000.,  750000.,\n",
       "        750000.,  750000.,  750000.,  750000.,  750000.,  500000.,\n",
       "        750000.,  750000.,  750000.,  750000.,  750000.,  500000.,\n",
       "        750000.,  750000.,  750000.,  750000.,  750000.,  500000.,\n",
       "        500000.,  750000.,  750000.,  750000.,  750000.,  750000.,\n",
       "        750000.,  500000.,  750000.,  750000.,  500000.,  750000.,\n",
       "        750000.,  750000.,  750000.,  750000.,  750000.,  750000.,\n",
       "        750000.,  750000.,  750000.,  750000.,  750000.,  750000.,\n",
       "        500000.,  750000.,  750000.,  750000.,  750000.,  500000.,\n",
       "        750000.,  750000.,  750000.,  750000.,  750000.,  750000.,\n",
       "        750000.,  750000.,  750000.,  500000.,  500000.,  750000.,\n",
       "        500000.,  750000.,  750000.,  750000.,  750000.,  750000.,\n",
       "        750000.,  750000.,  750000.,  750000.,  500000.,  500000.,\n",
       "        750000.,  750000.,  750000.,  750000.,  750000.,  750000.,\n",
       "        750000.,  750000.,  750000.,  750000.,  750000.,  750000.,\n",
       "        750000.,  750000.,  750000.,  500000.,  750000.,  750000.,\n",
       "        750000.,  750000.,  750000.,  750000.,  750000.,  750000.,\n",
       "        750000.,  750000.,  500000.,  500000.,  750000.,  750000.,\n",
       "        750000.,  750000.,  750000.,  750000.,  750000.,  750000.,\n",
       "        750000.,  500000.,  500000.,  500000.,  750000.,  750000.,\n",
       "        750000.,  500000.,  750000.,  750000.,  750000.,  750000.,\n",
       "        750000.,  500000.,  750000.,  750000.,  750000.,  750000.,\n",
       "        500000.,  750000.,  500000.,  750000.,  500000.,  750000.,\n",
       "        750000.,  750000.,  750000.,  750000.,  750000.,  750000.,\n",
       "        500000.,  500000.,  750000.,  750000.,  750000.,  750000.,\n",
       "        750000.,  750000.,  750000.,  750000.,  750000.,  500000.,\n",
       "        750000.,  750000.,  750000.,  750000.,  750000.,  750000.,\n",
       "        750000.,  750000.,  750000.,  750000.,  750000.,  750000.,\n",
       "        750000.,  750000.,  750000.,  500000.,  750000.,  750000.,\n",
       "        750000.,  750000.,  500000.,  750000.,  750000.,  750000.,\n",
       "        750000.,  750000.,  750000.,  750000.,  750000.,  750000.,\n",
       "        750000.,  750000.,  750000.,  750000.,  750000.,  750000.,\n",
       "        750000.,  750000.,  750000.,  750000.,  750000.,  750000.,\n",
       "        750000.,  750000.,  750000.,  750000.,  750000.,  500000.,\n",
       "        750000.,  750000.,  500000.,  500000.,  750000.,  750000.,\n",
       "        750000.,  750000.,  750000.,  750000.,  750000.,  750000.,\n",
       "        750000.])"
      ]
     },
     "execution_count": 38,
     "metadata": {},
     "output_type": "execute_result"
    }
   ],
   "source": [
    "y_pred"
   ]
  },
  {
   "cell_type": "code",
   "execution_count": 42,
   "id": "f2f69a6e",
   "metadata": {},
   "outputs": [],
   "source": [
    "from sklearn.metrics import accuracy_score"
   ]
  },
  {
   "cell_type": "code",
   "execution_count": 43,
   "id": "b9002a03",
   "metadata": {},
   "outputs": [
    {
     "name": "stdout",
     "output_type": "stream",
     "text": [
      "0.015841584158415842\n"
     ]
    }
   ],
   "source": [
    "score=accuracy_score(y_pred, y_test)\n",
    "print(score)"
   ]
  },
  {
   "cell_type": "code",
   "execution_count": null,
   "id": "b5d396bf",
   "metadata": {},
   "outputs": [],
   "source": []
  }
 ],
 "metadata": {
  "kernelspec": {
   "display_name": "Python 3 (ipykernel)",
   "language": "python",
   "name": "python3"
  },
  "language_info": {
   "codemirror_mode": {
    "name": "ipython",
    "version": 3
   },
   "file_extension": ".py",
   "mimetype": "text/x-python",
   "name": "python",
   "nbconvert_exporter": "python",
   "pygments_lexer": "ipython3",
   "version": "3.11.5"
  }
 },
 "nbformat": 4,
 "nbformat_minor": 5
}
